{
 "cells": [
  {
   "cell_type": "markdown",
   "id": "50d4a553",
   "metadata": {},
   "source": [
    "# 💠PYTHON PROGRAMMING ASSIGNMENT💠"
   ]
  },
  {
   "cell_type": "markdown",
   "id": "92ac515c",
   "metadata": {},
   "source": [
    "### Exercise 1: Prime Numbers\n",
    "Write a Python program that checks whether a given number is prime or not. A prime number is a natural number greater than 1 that has no positive divisors other than 1 and itself.\n"
   ]
  },
  {
   "cell_type": "code",
   "execution_count": 22,
   "id": "50db8d45",
   "metadata": {},
   "outputs": [
    {
     "name": "stdout",
     "output_type": "stream",
     "text": [
      "1999 is a prime number\n"
     ]
    }
   ],
   "source": [
    "def Is_prime(n):                                                  \n",
    "    Flag=False\n",
    "    if(n<2):                                              #Check if the number is less than 2\n",
    "        print(f\"{n} is not a prime number\")\n",
    "    else:\n",
    "        for i in range(2,(n//2)+1):                       #Iterate and check if number is divisible by the numbers from 2 to n/2\n",
    "            if (n%i==0):\n",
    "                Flag=True                                 # If get divided flag turns True and loop breaks \n",
    "                break\n",
    "                \n",
    "    if (Flag==True):                                      # If flag remains False : prime ,else Not a prime \n",
    "         print(f\"{n} is not a prime number\")\n",
    "    else:\n",
    "         print(f\"{n} is a prime number\")\n",
    "                   \n",
    "Is_prime(1999)"
   ]
  },
  {
   "cell_type": "code",
   "execution_count": 23,
   "id": "b3f6b623",
   "metadata": {},
   "outputs": [
    {
     "name": "stdout",
     "output_type": "stream",
     "text": [
      "60 is not a prime number\n"
     ]
    }
   ],
   "source": [
    "Is_prime(60)"
   ]
  },
  {
   "cell_type": "markdown",
   "id": "c2b74faf",
   "metadata": {},
   "source": [
    "### Exercise 2: Product of Random Numbers\n",
    "Develop a Python program that generates two random numbers and asks the user to enter the product of these numbers. The program should then check if the user's answer is correct and display an appropriate message.\n"
   ]
  },
  {
   "cell_type": "code",
   "execution_count": 27,
   "id": "d79fdc1a",
   "metadata": {},
   "outputs": [
    {
     "name": "stdout",
     "output_type": "stream",
     "text": [
      "Find the product of  (6, 8)\n",
      "Enter your answer here 48\n",
      "48 is correct answer.\n"
     ]
    }
   ],
   "source": [
    "import random                                          # Importing required module\n",
    "\n",
    "x=random.randint(1,10)                                 # Generating variables x,y randomly\n",
    "y=random.randint(1,10)\n",
    "\n",
    "print('Find the product of ',f'{x,y}')\n",
    "Ans=int(input('Enter your answer here '))              # Takes product as user input\n",
    "\n",
    "while(Ans!=x*y):                                       # Checks if answer is right else gives a rechance \n",
    "    Ans=int(input('Incorrect answer try again '))\n",
    "    \n",
    "print(f'{Ans} is correct answer.')                     # If answer is right returns 'ans is correct'"
   ]
  },
  {
   "cell_type": "markdown",
   "id": "3344cbf9",
   "metadata": {},
   "source": [
    "### Exercise 3: Squares of Even/Odd Numbers\n",
    "Create a Python script that prints the squares of all even or odd numbers within the range of 100 to 200. Choose either even or odd numbers and document your choice in the code.\n"
   ]
  },
  {
   "cell_type": "code",
   "execution_count": 15,
   "id": "acb7f3bc",
   "metadata": {},
   "outputs": [
    {
     "name": "stdout",
     "output_type": "stream",
     "text": [
      "[10000, 10404, 10816, 11236, 11664, 12100, 12544, 12996, 13456, 13924, 14400, 14884, 15376, 15876, 16384, 16900, 17424, 17956, 18496, 19044, 19600, 20164, 20736, 21316, 21904, 22500, 23104, 23716, 24336, 24964, 25600, 26244, 26896, 27556, 28224, 28900, 29584, 30276, 30976, 31684, 32400, 33124, 33856, 34596, 35344, 36100, 36864, 37636, 38416, 39204, 40000]\n"
     ]
    }
   ],
   "source": [
    "def Sqrt_ev_odd(Num):\n",
    "    if (Num=='even'):                                           #Check if input Num ie even \n",
    "        l=[x**2 for x in range(100,201) if x%2==0]              # Uses  list comprehension to iterate number between given range\n",
    "    if (Num=='odd'):                                            # Checks each number is even or odd\n",
    "        l=[x**2 for x in range(100,201) if x%2==1]\n",
    "    print(l)   \n",
    "\n",
    "Sqrt_ev_odd('even')"
   ]
  },
  {
   "cell_type": "code",
   "execution_count": 16,
   "id": "a7d05838",
   "metadata": {},
   "outputs": [
    {
     "name": "stdout",
     "output_type": "stream",
     "text": [
      "[10201, 10609, 11025, 11449, 11881, 12321, 12769, 13225, 13689, 14161, 14641, 15129, 15625, 16129, 16641, 17161, 17689, 18225, 18769, 19321, 19881, 20449, 21025, 21609, 22201, 22801, 23409, 24025, 24649, 25281, 25921, 26569, 27225, 27889, 28561, 29241, 29929, 30625, 31329, 32041, 32761, 33489, 34225, 34969, 35721, 36481, 37249, 38025, 38809, 39601]\n"
     ]
    }
   ],
   "source": [
    "Sqrt_ev_odd('odd')"
   ]
  },
  {
   "cell_type": "markdown",
   "id": "ab381ede",
   "metadata": {},
   "source": [
    "### Exercise 4: Word counter\n",
    "write a program to count the number of words in a given text.\n"
   ]
  },
  {
   "cell_type": "code",
   "execution_count": 30,
   "id": "bcec7c2d",
   "metadata": {},
   "outputs": [],
   "source": [
    "def count_words(Sentence):                         #Takes a sentence as input\n",
    "    Sentence=Sentence.lower()                      # Convert it to lowercase\n",
    "    Input=list(Sentence.split())                   # Tokenize the sentence \n",
    "    v=dict()                                       # Creating empty dictionary \n",
    "    for i in Input:                                # Iterating each word of the list\n",
    "        n=0\n",
    "        for j in range(len(Input)):                # Loop will check the number of times word is present using n variable\n",
    "            if (i == Input[j]):\n",
    "                n+=1                               # Creates a key as word and its number of times as values \n",
    "        v[i]=n\n",
    "    return(v)                                      #Returns the dictionary as output "
   ]
  },
  {
   "cell_type": "code",
   "execution_count": 33,
   "id": "0268ed24",
   "metadata": {},
   "outputs": [
    {
     "data": {
      "text/plain": [
       "{'python': 2,\n",
       " 'is': 2,\n",
       " 'name': 1,\n",
       " 'of': 1,\n",
       " 'programming': 1,\n",
       " 'language': 1,\n",
       " 'and': 1,\n",
       " 'also': 1,\n",
       " 'an': 1,\n",
       " 'animal': 1}"
      ]
     },
     "execution_count": 33,
     "metadata": {},
     "output_type": "execute_result"
    }
   ],
   "source": [
    "count_words('Python is name of programming language and python is also an animal')"
   ]
  },
  {
   "cell_type": "markdown",
   "id": "b7502a51",
   "metadata": {},
   "source": [
    "### Exercise 5: Check for Palindrome\n",
    "Write a Python function called is_palindrome that takes a string as input and returns True if the string is a palindrome, and False otherwise. A palindrome is a word, phrase, number, or other sequence of characters that reads the same forward and backward, ignoring spaces, punctuation, and capitalization.\n"
   ]
  },
  {
   "cell_type": "code",
   "execution_count": 20,
   "id": "15fbf5bd",
   "metadata": {},
   "outputs": [
    {
     "data": {
      "text/plain": [
       "True"
      ]
     },
     "execution_count": 20,
     "metadata": {},
     "output_type": "execute_result"
    }
   ],
   "source": [
    "def is_palindrome(word):                        # Takes a word as input\n",
    "    if word==word[::-1]:                        # It checks if original word is equal to reversed string and returns accordingly\n",
    "        return(True)\n",
    "    else:\n",
    "        return(False)\n",
    "    \n",
    "is_palindrome('racecar')"
   ]
  },
  {
   "cell_type": "code",
   "execution_count": 21,
   "id": "8116e88f",
   "metadata": {},
   "outputs": [
    {
     "data": {
      "text/plain": [
       "False"
      ]
     },
     "execution_count": 21,
     "metadata": {},
     "output_type": "execute_result"
    }
   ],
   "source": [
    "is_palindrome('python')"
   ]
  }
 ],
 "metadata": {
  "kernelspec": {
   "display_name": "Python 3 (ipykernel)",
   "language": "python",
   "name": "python3"
  },
  "language_info": {
   "codemirror_mode": {
    "name": "ipython",
    "version": 3
   },
   "file_extension": ".py",
   "mimetype": "text/x-python",
   "name": "python",
   "nbconvert_exporter": "python",
   "pygments_lexer": "ipython3",
   "version": "3.11.3"
  }
 },
 "nbformat": 4,
 "nbformat_minor": 5
}
